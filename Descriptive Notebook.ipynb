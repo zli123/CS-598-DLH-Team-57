{
  "nbformat": 4,
  "nbformat_minor": 0,
  "metadata": {
    "colab": {
      "provenance": []
    },
    "kernelspec": {
      "name": "python3",
      "display_name": "Python 3"
    },
    "language_info": {
      "name": "python"
    }
  },
  "cells": [
    {
      "cell_type": "markdown",
      "source": [
        "This paper aims to improve the productivity of medical procedures through the prediction of diagnosis codes from clinical notes by developping an automated code prediction system that replaces clinical coders and eliminate the possible errors through a standardized prediction system through the HiCU algorithm, or Hierarchical Curriculum Learning. In our study, we conducted two ablation studies: one on removing the HiCu algorithm completely using a randomly-initialized query matrix as a starting point, and the other on removing the hyperbolic correction component of the HiCu algorithm. We will be reproducing the comparison between AUC, F1 and P@K scores produced by the MultiResCNN model without the use of the HiCu algorithm and those that do make use of it, and the same will be repeated with the updated model with batch normalization and new loss functions.\n",
        "Based on the results of the original experiment and the ablation studies, we can observe clear improvement across all metrics for both top-50 dataset and the full dataset when HiCu is utilized compared to when it is not, and hyperbolic correction provides a slight further improvement. Comparing the results from our reproducibility study and those published in the paper, we can see that the published results show a higher degree of accuracy in all metrics which we believe can be attributed to the much, much finer learning rate and high number of epochs per depth.\n"
      ],
      "metadata": {
        "id": "lCMLN1ZF0XIJ"
      }
    }
  ]
}